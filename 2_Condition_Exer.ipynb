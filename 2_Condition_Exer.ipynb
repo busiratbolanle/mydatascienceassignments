{
 "cells": [
  {
   "cell_type": "code",
   "execution_count": 4,
   "id": "8139d605-b787-4561-8135-6d4bd4acdc7a",
   "metadata": {},
   "outputs": [
    {
     "name": "stdin",
     "output_type": "stream",
     "text": [
      "Enter Hours:  45\n",
      "Enter Rate:  10\n"
     ]
    },
    {
     "name": "stdout",
     "output_type": "stream",
     "text": [
      "Pay: 475.0\n"
     ]
    }
   ],
   "source": [
    "hours = float(input(\"Enter Hours: \"))\n",
    "rate = float (input(\"Enter Rate: \"))\n",
    "\n",
    "if hours <= 40:\n",
    "    normalPay = hours * rate\n",
    "    print(f\"Pay: {normalPay}\")\n",
    "elif hours > 40:\n",
    "    normalPay = 40 * rate\n",
    "    overtimeDiff = (hours - 40) * (1.5 * rate)\n",
    "    pay = normalPay + overtimeDiff\n",
    "    print(f\"Pay: {pay}\")"
   ]
  },
  {
   "cell_type": "code",
   "execution_count": 6,
   "id": "18653306-e89c-4763-a577-5a17ba4fdc8f",
   "metadata": {},
   "outputs": [
    {
     "name": "stdin",
     "output_type": "stream",
     "text": [
      "Enter Hours:  20\n",
      "Enter Rate:  nine\n"
     ]
    },
    {
     "name": "stdout",
     "output_type": "stream",
     "text": [
      "Error, please enter numeric input\n"
     ]
    }
   ],
   "source": [
    "try:\n",
    "    hours = float(input(\"Enter Hours: \"))\n",
    "    rate = float (input(\"Enter Rate: \"))\n",
    "    if hours <= 40:\n",
    "        normalPay = hours * rate\n",
    "        print(f\"Pay: {normalPay}\")\n",
    "    elif hours > 40:\n",
    "        normalPay = 40 * rate\n",
    "        overtimeDiff = (hours - 40) * (1.5 * rate)\n",
    "        pay = normalPay + overtimeDiff\n",
    "        print(f\"Pay: {pay}\")\n",
    "except:\n",
    "    print(\"Error, please enter numeric input\")"
   ]
  },
  {
   "cell_type": "code",
   "execution_count": 7,
   "id": "e45ffc64-f207-419e-8eea-c7e37ed08aa0",
   "metadata": {},
   "outputs": [
    {
     "name": "stdin",
     "output_type": "stream",
     "text": [
      "Enter Hours:  forty\n"
     ]
    },
    {
     "name": "stdout",
     "output_type": "stream",
     "text": [
      "Error, please enter numeric input\n"
     ]
    }
   ],
   "source": [
    "try:\n",
    "    hours = float(input(\"Enter Hours: \"))\n",
    "    rate = float (input(\"Enter Rate: \"))\n",
    "    if hours <= 40:\n",
    "        normalPay = hours * rate\n",
    "        print(f\"Pay: {normalPay}\")\n",
    "    elif hours > 40:\n",
    "        normalPay = 40 * rate\n",
    "        overtimeDiff = (hours - 40) * (1.5 * rate)\n",
    "        pay = normalPay + overtimeDiff\n",
    "        print(f\"Pay: {pay}\")\n",
    "except:\n",
    "    print(\"Error, please enter numeric input\")"
   ]
  },
  {
   "cell_type": "code",
   "execution_count": 1,
   "id": "e4f09728-5424-49c8-9ed9-a45fe76fda75",
   "metadata": {},
   "outputs": [
    {
     "name": "stdin",
     "output_type": "stream",
     "text": [
      "Enter score:  1.1\n"
     ]
    },
    {
     "name": "stdout",
     "output_type": "stream",
     "text": [
      "Bad score\n"
     ]
    }
   ],
   "source": [
    "# No so good: find correction in next line\n",
    "try:\n",
    "    score = float(input(\"Enter score: \"))\n",
    "    if score > 1.0:\n",
    "        print (\"Bad score\")\n",
    "    elif score >= 0.9:\n",
    "        print (\"A\")\n",
    "    elif score >= 0.8:\n",
    "        print (\"B\")\n",
    "    elif score >= 0.7:\n",
    "        print (\"C\")\n",
    "    elif score >= 0.6:\n",
    "        print (\"D\")\n",
    "    elif score < 0.6:\n",
    "        print (\"F\")\n",
    "except:\n",
    "    print (\"Bad score\")   \n"
   ]
  },
  {
   "cell_type": "code",
   "execution_count": 12,
   "id": "2de21bf4-9ada-402e-b7a9-1ca961851335",
   "metadata": {},
   "outputs": [
    {
     "name": "stdin",
     "output_type": "stream",
     "text": [
      "Enter score:  0.8\n"
     ]
    },
    {
     "name": "stdout",
     "output_type": "stream",
     "text": [
      "B\n"
     ]
    }
   ],
   "source": [
    "score = float(input(\"Enter score: \"))\n",
    "if score >= 0.9 and score <= 1.0:\n",
    "    print (\"A\")\n",
    "elif score >= 0.8 and score <= 0.89:\n",
    "    print (\"B\")\n",
    "elif score >= 0.7 and score <= 0.79:\n",
    "    print (\"C\")\n",
    "elif score >= 0.6 and score <= 0.69:\n",
    "    print (\"D\")\n",
    "elif score < 0.6 and score >= 0.0:\n",
    "    print (\"F\")\n",
    "else:\n",
    "    print (\"Bad score\")\n",
    "    "
   ]
  },
  {
   "cell_type": "code",
   "execution_count": null,
   "id": "4de896ff-c128-478a-8f0b-09a1c5f1204c",
   "metadata": {},
   "outputs": [],
   "source": []
  }
 ],
 "metadata": {
  "kernelspec": {
   "display_name": "Python 3 (ipykernel)",
   "language": "python",
   "name": "python3"
  },
  "language_info": {
   "codemirror_mode": {
    "name": "ipython",
    "version": 3
   },
   "file_extension": ".py",
   "mimetype": "text/x-python",
   "name": "python",
   "nbconvert_exporter": "python",
   "pygments_lexer": "ipython3",
   "version": "3.13.1"
  }
 },
 "nbformat": 4,
 "nbformat_minor": 5
}
