{
 "cells": [
  {
   "cell_type": "code",
   "execution_count": 1,
   "id": "2f0767b8-ebd3-4587-91cc-17aad94fe7a1",
   "metadata": {},
   "outputs": [
    {
     "name": "stdin",
     "output_type": "stream",
     "text": [
      "Enter temperature value in degree Celsius -5\n"
     ]
    },
    {
     "name": "stdout",
     "output_type": "stream",
     "text": [
      " 23.0 degrees Fahrenheit\n"
     ]
    }
   ],
   "source": [
    "# Prompt user for Celsius temp, convert to Fahrenheit and print\n",
    "CelsiusTemp = input (\"Enter temperature value in degree Celsius\")\n",
    "CelsiusTemp = float (CelsiusTemp)\n",
    "FahrenheitTemp = CelsiusTemp * (9/5) + 32\n",
    "print (f\" {FahrenheitTemp} degrees Fahrenheit\")"
   ]
  },
  {
   "cell_type": "code",
   "execution_count": 2,
   "id": "476e7b57-9b6b-46a0-a62a-bd43cc6798c9",
   "metadata": {},
   "outputs": [
    {
     "name": "stdin",
     "output_type": "stream",
     "text": [
      "Enter temperature value in degree Celsius -5\n"
     ]
    },
    {
     "name": "stdout",
     "output_type": "stream",
     "text": [
      " 23.0 degrees Fahrenheit\n"
     ]
    }
   ],
   "source": [
    "# Prompt user for Celsius temp, convert to Fahrenheit and print\n",
    "CelsiusTemp = input (\"Enter temperature value in degree Celsius\")\n",
    "CelsiusTemp = int (CelsiusTemp)\n",
    "FahrenheitTemp = CelsiusTemp * (9/5) + 32\n",
    "print (f\" {FahrenheitTemp} degrees Fahrenheit\")"
   ]
  },
  {
   "cell_type": "code",
   "execution_count": 5,
   "id": "fcef2d59-1ee9-4bdc-baf9-220640373f1e",
   "metadata": {},
   "outputs": [
    {
     "name": "stdin",
     "output_type": "stream",
     "text": [
      "Enter temperature value in degree Fahrenheit 23\n"
     ]
    },
    {
     "name": "stdout",
     "output_type": "stream",
     "text": [
      " -5.0 degrees Celsius\n"
     ]
    }
   ],
   "source": [
    "# Prompt user for Fahrenheit temp, convert to Celsius and print\n",
    "FahrenheitTemp = input (\"Enter temperature value in degree Fahrenheit\")\n",
    "FahrenheitTemp = int (FahrenheitTemp)\n",
    "CelsiusTemp = (FahrenheitTemp - 32) * (5/9)\n",
    "print (f\" {CelsiusTemp} degrees Celsius\")"
   ]
  },
  {
   "cell_type": "code",
   "execution_count": null,
   "id": "e16796c1-a07d-4898-9ed2-444386ce33e2",
   "metadata": {},
   "outputs": [],
   "source": []
  }
 ],
 "metadata": {
  "kernelspec": {
   "display_name": "Python 3 (ipykernel)",
   "language": "python",
   "name": "python3"
  },
  "language_info": {
   "codemirror_mode": {
    "name": "ipython",
    "version": 3
   },
   "file_extension": ".py",
   "mimetype": "text/x-python",
   "name": "python",
   "nbconvert_exporter": "python",
   "pygments_lexer": "ipython3",
   "version": "3.13.1"
  }
 },
 "nbformat": 4,
 "nbformat_minor": 5
}
